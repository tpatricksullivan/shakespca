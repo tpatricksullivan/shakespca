{
 "cells": [
  {
   "cell_type": "markdown",
   "metadata": {
    "collapsed": true
   },
   "source": [
    "# Shakespeare's Principal Components\n",
    "## Shakespeare and His Plays\n",
    "Shakespeare's work is ideal for statistical analysis. He wrote many plays that vary widely from each other but he returns to the same themes in each one, sometimes even with the same characters. Still, his earliest audiences and readers recognized that some plays were similar to each other and others different. The First Folio, which was the first major printing to combine most of his works, grouped the plays in three categories: Comedies, Histories and Tragedies.\n",
    "\n",
    "| Comedies | Histories | Tragedies |\n",
    "|----------|-----------|-----------|\n",
    "|All's Well That Ends Well |Henry IV, Part I|Antony and Cleopatra|\n",
    "|As You Like It |Henry IV, Part II|Cymbeline|\n",
    "|Comedy of Errors |Henry V|Hamlet|\n",
    "|Love's Labour's Lost |Henry VI, Part I|Julius Caesar|\n",
    "|Measure for Measure |Henry VI, Part II|Coriolanus|\n",
    "|Merchant of Venice |Henry VI, Part III|King Lear|\n",
    "|Merry Wives of Windsor |King John|Macbeth|\n",
    "|Midsummer Night's Dream |Pericles|Othello|\n",
    "|Much Ado about Nothing|Richard II|Romeo and Juliet|\n",
    "|Taming of the Shrew|Richard III|Timon of Athens|\n",
    "|Tempest||Titus Andronicus|\n",
    "|Twelfth Night||Troilus and Cressida|\n",
    "|Two Gentlemen of Verona|||\n",
    "|Two Noble Kinsmen|||\n",
    "|Winter's Tale|||\n",
    "\n",
    "## Text Analysis\n"
   ]
  },
  {
   "cell_type": "code",
   "execution_count": null,
   "metadata": {
    "collapsed": true
   },
   "outputs": [],
   "source": [
    ""
   ]
  },
  {
   "cell_type": "markdown",
   "metadata": {
    "collapsed": true
   },
   "source": [
    "## Principal Component Analysis (PCA)\n",
    "PCA creates combinations of the variables in data that represent most of the variance in the data. In particular, it is helpful to reduce a set of many variables into the key variables or combinations of variables that is most responsible for changes in the data. \n"
   ]
  },
  {
   "cell_type": "markdown",
   "metadata": {},
   "source": [
    "## Preparing the Data\n",
    "Folger Digital Texts provides a stripped version of the plays."
   ]
  },
  {
   "cell_type": "markdown",
   "metadata": {},
   "source": [
    "## Analyzing Language Action Types\n",
    "Docuscope is a third-party tool that decomposes texts into Language Action Types (LATs). "
   ]
  },
  {
   "cell_type": "markdown",
   "metadata": {},
   "source": [
    "## Loading Data \n",
    "I use python to load the prepared files."
   ]
  },
  {
   "cell_type": "code",
   "execution_count": null,
   "metadata": {},
   "outputs": [],
   "source": [
    "import pandas as pd\n",
    "\n",
    "file_path = \"data/CSV/ubiquity-2015-06-23-06-38-28.csv\"\n",
    "df = pd.read_csv(file_path)"
   ]
  },
  {
   "cell_type": "code",
   "execution_count": null,
   "metadata": {},
   "outputs": [],
   "source": [
    ""
   ]
  }
 ],
 "metadata": {
  "kernelspec": {
   "display_name": "Python 2",
   "language": "python",
   "name": "python2"
  },
  "language_info": {
   "codemirror_mode": {
    "name": "ipython",
    "version": 2.0
   },
   "file_extension": ".py",
   "mimetype": "text/x-python",
   "name": "python",
   "nbconvert_exporter": "python",
   "pygments_lexer": "ipython2",
   "version": "2.7.11"
  }
 },
 "nbformat": 4,
 "nbformat_minor": 0
}